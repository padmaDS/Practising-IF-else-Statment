{
 "cells": [
  {
   "cell_type": "code",
   "execution_count": 16,
   "id": "ca028203",
   "metadata": {},
   "outputs": [
    {
     "name": "stdout",
     "output_type": "stream",
     "text": [
      "250\n",
      "no gre\n",
      "toefl\n",
      "try something\n"
     ]
    }
   ],
   "source": [
    "marks = int(input())\n",
    "if marks < 600 :\n",
    "    print('no gre')\n",
    "    if marks < 500 :\n",
    "        print('toefl')\n",
    "        if marks < 400 :\n",
    "            print('try something')\n",
    "        else :\n",
    "            print('ok')\n",
    "            if marks > 200 :\n",
    "                print('hello got')\n",
    "else :\n",
    "    print('congratulations')"
   ]
  },
  {
   "cell_type": "code",
   "execution_count": 24,
   "id": "a45fdd0c",
   "metadata": {},
   "outputs": [
    {
     "name": "stdout",
     "output_type": "stream",
     "text": [
      "all values are verified\n",
      "dict_values(['value', 'padma', 'ineuron'])\n"
     ]
    }
   ],
   "source": [
    "d = {'key1' : 'value' , 'key2' : 'padma' , 'key3' : 'ineuron'}\n",
    "if d['key1'] == 'value' or d['key2'] == 'padma' and d['key3'] == 'ineuron':\n",
    "    print('all values are verified')\n",
    "    print(d.values())\n",
    "else :\n",
    "    print('all values are not verified')\n",
    "    "
   ]
  },
  {
   "cell_type": "code",
   "execution_count": 27,
   "id": "d46e04a2",
   "metadata": {},
   "outputs": [
    {
     "name": "stdout",
     "output_type": "stream",
     "text": [
      "going to be work\n"
     ]
    }
   ],
   "source": [
    "d = {'a' : 'padma' , 'b' : 'pandu', 'c' : 'papa'}\n",
    "if d['a'] == 'padma' and d['b'] == 'pandu' and d['c'] != 'papa' :\n",
    "    print('keys are working')\n",
    "    print(d.values())\n",
    "else :\n",
    "    print('going to be work')"
   ]
  },
  {
   "cell_type": "code",
   "execution_count": 33,
   "id": "e1602aa9",
   "metadata": {},
   "outputs": [
    {
     "name": "stdout",
     "output_type": "stream",
     "text": [
      "padma pandu papa is going to be true\n",
      "dict_keys(['god', 'padma', 'papa', 'pandu'])\n"
     ]
    }
   ],
   "source": [
    "d = {'god' : 'great', 'padma' : 'DS', 'papa' :'Doctor' , 'pandu' : 'business magnet'}\n",
    "if d['god'] == 'great' or d['padma'] == 'DS'and d['papa'] == 'Doctor' or d['pandu'] == 'business magnet' :\n",
    "    print('padma pandu papa is going to be true')\n",
    "    print(d.keys())\n",
    "else :\n",
    "    print('you learned')\n"
   ]
  },
  {
   "cell_type": "code",
   "execution_count": 38,
   "id": "ed285f56",
   "metadata": {},
   "outputs": [
    {
     "name": "stdout",
     "output_type": "stream",
     "text": [
      "1\n",
      "2\n",
      "3\n",
      "4\n",
      "5\n",
      "sudh\n",
      "234.45\n"
     ]
    }
   ],
   "source": [
    "l = [1,2,3,4,5,'sudh', 234.45]\n",
    "for i in l :\n",
    "    print(i)"
   ]
  },
  {
   "cell_type": "code",
   "execution_count": 41,
   "id": "4739ea0b",
   "metadata": {},
   "outputs": [
    {
     "name": "stdout",
     "output_type": "stream",
     "text": [
      "1\n",
      "5\n",
      "6\n",
      "7\n",
      "8\n",
      "padma\n",
      "12.5\n"
     ]
    }
   ],
   "source": [
    "l = [1,5,6,7,8,'padma', '12.5' , 3+3j]\n",
    "for i in l :\n",
    "    print(i)"
   ]
  },
  {
   "cell_type": "code",
   "execution_count": 45,
   "id": "ac1f225a",
   "metadata": {},
   "outputs": [
    {
     "name": "stdout",
     "output_type": "stream",
     "text": [
      "12.51\n"
     ]
    }
   ],
   "source": [
    "if i in l :\n",
    "    if type(i) == int or type (i) == float :\n",
    "        print(i+1)\n",
    "    elif type(i) == str :\n",
    "        print(i+str(1))"
   ]
  },
  {
   "cell_type": "code",
   "execution_count": 46,
   "id": "c931cba8",
   "metadata": {},
   "outputs": [
    {
     "name": "stdout",
     "output_type": "stream",
     "text": [
      "3\n",
      "4\n",
      "5\n",
      "7\n",
      "8\n",
      "9\n"
     ]
    }
   ],
   "source": [
    "l = [3,4,5,7,8,9]\n",
    "for i in l :\n",
    "    print(i)"
   ]
  },
  {
   "cell_type": "code",
   "execution_count": 51,
   "id": "741814f5",
   "metadata": {},
   "outputs": [
    {
     "name": "stdout",
     "output_type": "stream",
     "text": [
      "1.5\n",
      "2.0\n",
      "2.5\n",
      "3.5\n",
      "4.0\n",
      "4.5\n"
     ]
    }
   ],
   "source": [
    "for i in l :\n",
    "    print(i/2)"
   ]
  },
  {
   "cell_type": "code",
   "execution_count": null,
   "id": "78903054",
   "metadata": {},
   "outputs": [],
   "source": []
  }
 ],
 "metadata": {
  "kernelspec": {
   "display_name": "Python 3 (ipykernel)",
   "language": "python",
   "name": "python3"
  },
  "language_info": {
   "codemirror_mode": {
    "name": "ipython",
    "version": 3
   },
   "file_extension": ".py",
   "mimetype": "text/x-python",
   "name": "python",
   "nbconvert_exporter": "python",
   "pygments_lexer": "ipython3",
   "version": "3.9.7"
  }
 },
 "nbformat": 4,
 "nbformat_minor": 5
}
