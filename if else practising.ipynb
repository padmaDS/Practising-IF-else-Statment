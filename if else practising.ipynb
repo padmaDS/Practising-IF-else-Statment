{
 "cells": [
  {
   "cell_type": "code",
   "execution_count": 10,
   "id": "66a9f6b3",
   "metadata": {},
   "outputs": [
    {
     "name": "stdout",
     "output_type": "stream",
     "text": [
      "enter a floating point number100\n",
      "given number is negative\n"
     ]
    }
   ],
   "source": [
    "value = float(input('enter a floating point number'))\n",
    "if value == 0 :\n",
    "    print('given number is zero')\n",
    "else :\n",
    "    print('given number is negative')"
   ]
  },
  {
   "cell_type": "code",
   "execution_count": 11,
   "id": "3b9e68dc",
   "metadata": {},
   "outputs": [
    {
     "name": "stdout",
     "output_type": "stream",
     "text": [
      "say hello\n"
     ]
    }
   ],
   "source": [
    "a = 100\n",
    "if a == 100 or a >= 200 :\n",
    "    print('say hello')\n",
    "else :\n",
    "    print('hai')"
   ]
  },
  {
   "cell_type": "code",
   "execution_count": 30,
   "id": "fc27bc20",
   "metadata": {},
   "outputs": [
    {
     "name": "stdout",
     "output_type": "stream",
     "text": [
      "100\n",
      "hello padma\n"
     ]
    }
   ],
   "source": [
    "b = int(input())\n",
    "if a == 5 or a > 10 and a > 6 :\n",
    "    print('hello padma')\n",
    "else :\n",
    "    print('data scientist')"
   ]
  },
  {
   "cell_type": "code",
   "execution_count": 31,
   "id": "7367c1f4",
   "metadata": {},
   "outputs": [],
   "source": [
    "a = 'padma'"
   ]
  },
  {
   "cell_type": "code",
   "execution_count": 34,
   "id": "25975713",
   "metadata": {},
   "outputs": [
    {
     "name": "stdout",
     "output_type": "stream",
     "text": [
      "very good\n"
     ]
    }
   ],
   "source": [
    "if a == 'padma' and a == \"Padma\" :\n",
    "    print('correct')\n",
    "else :\n",
    "        print('very good')"
   ]
  },
  {
   "cell_type": "code",
   "execution_count": null,
   "id": "976253e1",
   "metadata": {},
   "outputs": [],
   "source": []
  }
 ],
 "metadata": {
  "kernelspec": {
   "display_name": "Python 3 (ipykernel)",
   "language": "python",
   "name": "python3"
  },
  "language_info": {
   "codemirror_mode": {
    "name": "ipython",
    "version": 3
   },
   "file_extension": ".py",
   "mimetype": "text/x-python",
   "name": "python",
   "nbconvert_exporter": "python",
   "pygments_lexer": "ipython3",
   "version": "3.9.7"
  }
 },
 "nbformat": 4,
 "nbformat_minor": 5
}
